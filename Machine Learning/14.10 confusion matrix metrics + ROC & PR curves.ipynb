{
 "cells": [
  {
   "cell_type": "code",
   "execution_count": 1,
   "metadata": {},
   "outputs": [],
   "source": [
    "import numpy as np\n",
    "import pandas as pd\n",
    "import matplotlib.pyplot as plt"
   ]
  },
  {
   "cell_type": "code",
   "execution_count": 2,
   "metadata": {},
   "outputs": [],
   "source": [
    "from sklearn.model_selection import train_test_split\n",
    "from sklearn.compose import ColumnTransformer\n",
    "from sklearn.pipeline import Pipeline\n",
    "from sklearn.preprocessing import RobustScaler, OneHotEncoder\n",
    "from sklearn.linear_model import LogisticRegression"
   ]
  },
  {
   "cell_type": "code",
   "execution_count": 3,
   "metadata": {},
   "outputs": [
    {
     "data": {
      "text/html": [
       "<div>\n",
       "<style scoped>\n",
       "    .dataframe tbody tr th:only-of-type {\n",
       "        vertical-align: middle;\n",
       "    }\n",
       "\n",
       "    .dataframe tbody tr th {\n",
       "        vertical-align: top;\n",
       "    }\n",
       "\n",
       "    .dataframe thead th {\n",
       "        text-align: right;\n",
       "    }\n",
       "</style>\n",
       "<table border=\"1\" class=\"dataframe\">\n",
       "  <thead>\n",
       "    <tr style=\"text-align: right;\">\n",
       "      <th></th>\n",
       "      <th>CustomerId</th>\n",
       "      <th>Surname</th>\n",
       "      <th>CreditScore</th>\n",
       "      <th>Geography</th>\n",
       "      <th>Gender</th>\n",
       "      <th>Age</th>\n",
       "      <th>Tenure</th>\n",
       "      <th>Balance</th>\n",
       "      <th>NumOfProducts</th>\n",
       "      <th>HasCrCard</th>\n",
       "      <th>IsActiveMember</th>\n",
       "      <th>EstimatedSalary</th>\n",
       "      <th>Exited</th>\n",
       "    </tr>\n",
       "    <tr>\n",
       "      <th>RowNumber</th>\n",
       "      <th></th>\n",
       "      <th></th>\n",
       "      <th></th>\n",
       "      <th></th>\n",
       "      <th></th>\n",
       "      <th></th>\n",
       "      <th></th>\n",
       "      <th></th>\n",
       "      <th></th>\n",
       "      <th></th>\n",
       "      <th></th>\n",
       "      <th></th>\n",
       "      <th></th>\n",
       "    </tr>\n",
       "  </thead>\n",
       "  <tbody>\n",
       "    <tr>\n",
       "      <th>1</th>\n",
       "      <td>15634602</td>\n",
       "      <td>Hargrave</td>\n",
       "      <td>619</td>\n",
       "      <td>France</td>\n",
       "      <td>Female</td>\n",
       "      <td>42</td>\n",
       "      <td>2</td>\n",
       "      <td>0.00</td>\n",
       "      <td>1</td>\n",
       "      <td>1</td>\n",
       "      <td>1</td>\n",
       "      <td>101348.88</td>\n",
       "      <td>1</td>\n",
       "    </tr>\n",
       "    <tr>\n",
       "      <th>2</th>\n",
       "      <td>15647311</td>\n",
       "      <td>Hill</td>\n",
       "      <td>608</td>\n",
       "      <td>Spain</td>\n",
       "      <td>Female</td>\n",
       "      <td>41</td>\n",
       "      <td>1</td>\n",
       "      <td>83807.86</td>\n",
       "      <td>1</td>\n",
       "      <td>0</td>\n",
       "      <td>1</td>\n",
       "      <td>112542.58</td>\n",
       "      <td>0</td>\n",
       "    </tr>\n",
       "    <tr>\n",
       "      <th>3</th>\n",
       "      <td>15619304</td>\n",
       "      <td>Onio</td>\n",
       "      <td>502</td>\n",
       "      <td>France</td>\n",
       "      <td>Female</td>\n",
       "      <td>42</td>\n",
       "      <td>8</td>\n",
       "      <td>159660.80</td>\n",
       "      <td>3</td>\n",
       "      <td>1</td>\n",
       "      <td>0</td>\n",
       "      <td>113931.57</td>\n",
       "      <td>1</td>\n",
       "    </tr>\n",
       "    <tr>\n",
       "      <th>4</th>\n",
       "      <td>15701354</td>\n",
       "      <td>Boni</td>\n",
       "      <td>699</td>\n",
       "      <td>France</td>\n",
       "      <td>Female</td>\n",
       "      <td>39</td>\n",
       "      <td>1</td>\n",
       "      <td>0.00</td>\n",
       "      <td>2</td>\n",
       "      <td>0</td>\n",
       "      <td>0</td>\n",
       "      <td>93826.63</td>\n",
       "      <td>0</td>\n",
       "    </tr>\n",
       "    <tr>\n",
       "      <th>5</th>\n",
       "      <td>15737888</td>\n",
       "      <td>Mitchell</td>\n",
       "      <td>850</td>\n",
       "      <td>Spain</td>\n",
       "      <td>Female</td>\n",
       "      <td>43</td>\n",
       "      <td>2</td>\n",
       "      <td>125510.82</td>\n",
       "      <td>1</td>\n",
       "      <td>1</td>\n",
       "      <td>1</td>\n",
       "      <td>79084.10</td>\n",
       "      <td>0</td>\n",
       "    </tr>\n",
       "  </tbody>\n",
       "</table>\n",
       "</div>"
      ],
      "text/plain": [
       "           CustomerId   Surname  CreditScore Geography  Gender  Age  Tenure  \\\n",
       "RowNumber                                                                     \n",
       "1            15634602  Hargrave          619    France  Female   42       2   \n",
       "2            15647311      Hill          608     Spain  Female   41       1   \n",
       "3            15619304      Onio          502    France  Female   42       8   \n",
       "4            15701354      Boni          699    France  Female   39       1   \n",
       "5            15737888  Mitchell          850     Spain  Female   43       2   \n",
       "\n",
       "             Balance  NumOfProducts  HasCrCard  IsActiveMember  \\\n",
       "RowNumber                                                        \n",
       "1               0.00              1          1               1   \n",
       "2           83807.86              1          0               1   \n",
       "3          159660.80              3          1               0   \n",
       "4               0.00              2          0               0   \n",
       "5          125510.82              1          1               1   \n",
       "\n",
       "           EstimatedSalary  Exited  \n",
       "RowNumber                           \n",
       "1                101348.88       1  \n",
       "2                112542.58       0  \n",
       "3                113931.57       1  \n",
       "4                 93826.63       0  \n",
       "5                 79084.10       0  "
      ]
     },
     "execution_count": 3,
     "metadata": {},
     "output_type": "execute_result"
    }
   ],
   "source": [
    "df = pd.read_csv('data/churn modelling.csv', index_col=0)\n",
    "df.head()"
   ]
  },
  {
   "cell_type": "code",
   "execution_count": 4,
   "metadata": {},
   "outputs": [],
   "source": [
    "# dropping insignificant cols\n",
    "df.drop(['CustomerId', 'Surname'], axis=1, inplace=True)"
   ]
  },
  {
   "cell_type": "code",
   "execution_count": 5,
   "metadata": {},
   "outputs": [
    {
     "data": {
      "text/plain": [
       "(10000, 11)"
      ]
     },
     "execution_count": 5,
     "metadata": {},
     "output_type": "execute_result"
    }
   ],
   "source": [
    "df.shape"
   ]
  },
  {
   "cell_type": "code",
   "execution_count": 6,
   "metadata": {},
   "outputs": [
    {
     "data": {
      "text/plain": [
       "CreditScore        0\n",
       "Geography          0\n",
       "Gender             0\n",
       "Age                0\n",
       "Tenure             0\n",
       "Balance            0\n",
       "NumOfProducts      0\n",
       "HasCrCard          0\n",
       "IsActiveMember     0\n",
       "EstimatedSalary    0\n",
       "Exited             0\n",
       "dtype: int64"
      ]
     },
     "execution_count": 6,
     "metadata": {},
     "output_type": "execute_result"
    }
   ],
   "source": [
    "df.isna().sum()"
   ]
  },
  {
   "cell_type": "code",
   "execution_count": 7,
   "metadata": {},
   "outputs": [],
   "source": [
    "X = df.drop('Exited', 1)\n",
    "y = df.Exited"
   ]
  },
  {
   "cell_type": "code",
   "execution_count": 8,
   "metadata": {},
   "outputs": [
    {
     "data": {
      "text/plain": [
       "0    7963\n",
       "1    2037\n",
       "Name: Exited, dtype: int64"
      ]
     },
     "execution_count": 8,
     "metadata": {},
     "output_type": "execute_result"
    }
   ],
   "source": [
    "y.value_counts()"
   ]
  },
  {
   "cell_type": "code",
   "execution_count": 9,
   "metadata": {},
   "outputs": [],
   "source": [
    "X_train, X_test, y_train, y_test = train_test_split(X, y, test_size=0.2, random_state=0, stratify=y)"
   ]
  },
  {
   "cell_type": "code",
   "execution_count": 10,
   "metadata": {},
   "outputs": [
    {
     "data": {
      "text/plain": [
       "Index(['CreditScore', 'Geography', 'Gender', 'Age', 'Tenure', 'Balance',\n",
       "       'NumOfProducts', 'HasCrCard', 'IsActiveMember', 'EstimatedSalary'],\n",
       "      dtype='object')"
      ]
     },
     "execution_count": 10,
     "metadata": {},
     "output_type": "execute_result"
    }
   ],
   "source": [
    "X.columns"
   ]
  },
  {
   "cell_type": "code",
   "execution_count": 11,
   "metadata": {},
   "outputs": [],
   "source": [
    "num_cols = ['CreditScore', 'Age', 'Tenure', 'Balance', 'NumOfProducts', 'EstimatedSalary']\n",
    "cat_cols = ['HasCrCard', 'IsActiveMember', 'Geography', 'Gender']"
   ]
  },
  {
   "cell_type": "code",
   "execution_count": 12,
   "metadata": {},
   "outputs": [],
   "source": [
    "ct = ColumnTransformer([\n",
    "    ('s1', RobustScaler(), num_cols),\n",
    "    ('s2', OneHotEncoder(sparse=False, handle_unknown='ignore'), cat_cols)\n",
    "])"
   ]
  },
  {
   "cell_type": "code",
   "execution_count": 13,
   "metadata": {},
   "outputs": [],
   "source": [
    "p = Pipeline([\n",
    "    ('ct', ct),\n",
    "    ('mod', LogisticRegression(random_state=0))\n",
    "])"
   ]
  },
  {
   "cell_type": "code",
   "execution_count": 14,
   "metadata": {},
   "outputs": [
    {
     "data": {
      "text/plain": [
       "Pipeline(steps=[('ct',\n",
       "                 ColumnTransformer(transformers=[('s1', RobustScaler(),\n",
       "                                                  ['CreditScore', 'Age',\n",
       "                                                   'Tenure', 'Balance',\n",
       "                                                   'NumOfProducts',\n",
       "                                                   'EstimatedSalary']),\n",
       "                                                 ('s2',\n",
       "                                                  OneHotEncoder(handle_unknown='ignore',\n",
       "                                                                sparse=False),\n",
       "                                                  ['HasCrCard',\n",
       "                                                   'IsActiveMember',\n",
       "                                                   'Geography', 'Gender'])])),\n",
       "                ('mod', LogisticRegression(random_state=0))])"
      ]
     },
     "execution_count": 14,
     "metadata": {},
     "output_type": "execute_result"
    }
   ],
   "source": [
    "p.fit(X_train, y_train)"
   ]
  },
  {
   "cell_type": "code",
   "execution_count": 15,
   "metadata": {},
   "outputs": [
    {
     "data": {
      "text/plain": [
       "array([1, 0, 0, 1, 0, 0, 0, 0, 0, 0, 0, 1, 0, 0, 0])"
      ]
     },
     "execution_count": 15,
     "metadata": {},
     "output_type": "execute_result"
    }
   ],
   "source": [
    "# predictions are for the default threshold of 0.5\n",
    "preds = p.predict(X_test)\n",
    "preds[:15]"
   ]
  },
  {
   "cell_type": "code",
   "execution_count": 16,
   "metadata": {},
   "outputs": [
    {
     "data": {
      "text/plain": [
       "array([1, 0, 0, 1, 1, 1, 0, 0, 1, 0, 0, 1, 0, 0, 0])"
      ]
     },
     "execution_count": 16,
     "metadata": {},
     "output_type": "execute_result"
    }
   ],
   "source": [
    "# real class labels of the first 15 people in the test set\n",
    "np.array(y_test)[:15]"
   ]
  },
  {
   "cell_type": "code",
   "execution_count": 17,
   "metadata": {},
   "outputs": [],
   "source": [
    "from sklearn.metrics import confusion_matrix, plot_confusion_matrix"
   ]
  },
  {
   "cell_type": "code",
   "execution_count": 18,
   "metadata": {},
   "outputs": [
    {
     "data": {
      "text/plain": [
       "array([[1530,   63],\n",
       "       [ 319,   88]])"
      ]
     },
     "execution_count": 18,
     "metadata": {},
     "output_type": "execute_result"
    }
   ],
   "source": [
    "confusion_matrix(y_true=y_test, y_pred=preds)"
   ]
  },
  {
   "attachments": {
    "Screenshot%202021-05-03%20at%201.25.09%20AM.png": {
     "image/png": "[encoded data removed]"
    }
   },
   "cell_type": "markdown",
   "metadata": {},
   "source": [
    "![Screenshot%202021-05-03%20at%201.25.09%20AM.png](attachment:Screenshot%202021-05-03%20at%201.25.09%20AM.png)"
   ]
  },
  {
   "cell_type": "code",
   "execution_count": 19,
   "metadata": {},
   "outputs": [
    {
     "data": {
      "text/plain": [
       "array([0, 1])"
      ]
     },
     "execution_count": 19,
     "metadata": {},
     "output_type": "execute_result"
    }
   ],
   "source": [
    "p.classes_"
   ]
  },
  {
   "attachments": {
    "Screenshot%202021-05-03%20at%201.26.18%20AM.png": {
     "image/png": "[encoded data removed]"
    }
   },
   "cell_type": "markdown",
   "metadata": {},
   "source": [
    "And if we want to switch the class label positions:\n",
    "\n",
    "![Screenshot%202021-05-03%20at%201.26.18%20AM.png](attachment:Screenshot%202021-05-03%20at%201.26.18%20AM.png)"
   ]
  },
  {
   "cell_type": "code",
   "execution_count": 20,
   "metadata": {},
   "outputs": [
    {
     "data": {
      "text/plain": [
       "array([[  88,  319],\n",
       "       [  63, 1530]])"
      ]
     },
     "execution_count": 20,
     "metadata": {},
     "output_type": "execute_result"
    }
   ],
   "source": [
    "confusion_matrix(y_test, preds, labels=(1,0))"
   ]
  },
  {
   "cell_type": "code",
   "execution_count": 21,
   "metadata": {},
   "outputs": [
    {
     "data": {
      "text/plain": [
       "array([  88,  319,   63, 1530])"
      ]
     },
     "execution_count": 21,
     "metadata": {},
     "output_type": "execute_result"
    }
   ],
   "source": [
    "confusion_matrix(y_test, preds, labels=(1,0)).ravel()"
   ]
  },
  {
   "cell_type": "code",
   "execution_count": 22,
   "metadata": {},
   "outputs": [],
   "source": [
    "tp, fn, fp, tn = confusion_matrix(y_test, preds, labels=(1,0)).ravel()"
   ]
  },
  {
   "cell_type": "code",
   "execution_count": 23,
   "metadata": {},
   "outputs": [
    {
     "data": {
      "text/plain": [
       "0.5827814569536424"
      ]
     },
     "execution_count": 23,
     "metadata": {},
     "output_type": "execute_result"
    }
   ],
   "source": [
    "precision = tp/(tp+fp)\n",
    "precision"
   ]
  },
  {
   "cell_type": "code",
   "execution_count": 24,
   "metadata": {},
   "outputs": [],
   "source": [
    "from sklearn.metrics import accuracy_score, precision_score, recall_score, f1_score,\\\n",
    "fbeta_score, matthews_corrcoef"
   ]
  },
  {
   "cell_type": "code",
   "execution_count": 25,
   "metadata": {},
   "outputs": [
    {
     "data": {
      "text/plain": [
       "0.5827814569536424"
      ]
     },
     "execution_count": 25,
     "metadata": {},
     "output_type": "execute_result"
    }
   ],
   "source": [
    "precision_score(y_test, preds)"
   ]
  },
  {
   "cell_type": "code",
   "execution_count": 26,
   "metadata": {},
   "outputs": [
    {
     "data": {
      "text/plain": [
       "0.21621621621621623"
      ]
     },
     "execution_count": 26,
     "metadata": {},
     "output_type": "execute_result"
    }
   ],
   "source": [
    "recall_score(y_test, preds)"
   ]
  },
  {
   "cell_type": "code",
   "execution_count": 27,
   "metadata": {},
   "outputs": [
    {
     "data": {
      "text/plain": [
       "0.31541218637992835"
      ]
     },
     "execution_count": 27,
     "metadata": {},
     "output_type": "execute_result"
    }
   ],
   "source": [
    "# harmonic mean of precision and recall\n",
    "f1_score(y_test, preds)"
   ]
  },
  {
   "cell_type": "code",
   "execution_count": 28,
   "metadata": {},
   "outputs": [
    {
     "data": {
      "text/plain": [
       "0.4352126607319486"
      ]
     },
     "execution_count": 28,
     "metadata": {},
     "output_type": "execute_result"
    }
   ],
   "source": [
    "# Precision more weight than recall (beta < 1)\n",
    "fbeta_score(y_test, preds, beta=0.5)"
   ]
  },
  {
   "cell_type": "code",
   "execution_count": 29,
   "metadata": {},
   "outputs": [
    {
     "data": {
      "text/plain": [
       "0.2473299606520517"
      ]
     },
     "execution_count": 29,
     "metadata": {},
     "output_type": "execute_result"
    }
   ],
   "source": [
    "fbeta_score(y_test, preds, beta=2)"
   ]
  },
  {
   "cell_type": "code",
   "execution_count": 30,
   "metadata": {},
   "outputs": [
    {
     "data": {
      "text/plain": [
       "0.2473299606520517"
      ]
     },
     "execution_count": 30,
     "metadata": {},
     "output_type": "execute_result"
    }
   ],
   "source": [
    "# recall more weight than precision (beta > 1)\n",
    "fbeta_score(y_test, preds, beta=2)\n"
   ]
  },
  {
   "cell_type": "code",
   "execution_count": 31,
   "metadata": {},
   "outputs": [
    {
     "data": {
      "text/plain": [
       "0.2692195114515157"
      ]
     },
     "execution_count": 31,
     "metadata": {},
     "output_type": "execute_result"
    }
   ],
   "source": [
    "# when both classes need to be predicted with good accuracies, MCC is better than F-measures\n",
    "matthews_corrcoef(y_test, preds)"
   ]
  },
  {
   "cell_type": "code",
   "execution_count": 32,
   "metadata": {},
   "outputs": [],
   "source": [
    "# checking what other matrix are available\n",
    "from sklearn.metrics import SCORERS"
   ]
  },
  {
   "cell_type": "code",
   "execution_count": 33,
   "metadata": {},
   "outputs": [
    {
     "data": {
      "text/plain": [
       "['accuracy',\n",
       " 'adjusted_mutual_info_score',\n",
       " 'adjusted_rand_score',\n",
       " 'average_precision',\n",
       " 'balanced_accuracy',\n",
       " 'completeness_score',\n",
       " 'explained_variance',\n",
       " 'f1',\n",
       " 'f1_macro',\n",
       " 'f1_micro',\n",
       " 'f1_samples',\n",
       " 'f1_weighted',\n",
       " 'fowlkes_mallows_score',\n",
       " 'homogeneity_score',\n",
       " 'jaccard',\n",
       " 'jaccard_macro',\n",
       " 'jaccard_micro',\n",
       " 'jaccard_samples',\n",
       " 'jaccard_weighted',\n",
       " 'max_error',\n",
       " 'mutual_info_score',\n",
       " 'neg_brier_score',\n",
       " 'neg_log_loss',\n",
       " 'neg_mean_absolute_error',\n",
       " 'neg_mean_gamma_deviance',\n",
       " 'neg_mean_poisson_deviance',\n",
       " 'neg_mean_squared_error',\n",
       " 'neg_mean_squared_log_error',\n",
       " 'neg_median_absolute_error',\n",
       " 'neg_root_mean_squared_error',\n",
       " 'normalized_mutual_info_score',\n",
       " 'precision',\n",
       " 'precision_macro',\n",
       " 'precision_micro',\n",
       " 'precision_samples',\n",
       " 'precision_weighted',\n",
       " 'r2',\n",
       " 'recall',\n",
       " 'recall_macro',\n",
       " 'recall_micro',\n",
       " 'recall_samples',\n",
       " 'recall_weighted',\n",
       " 'roc_auc',\n",
       " 'roc_auc_ovo',\n",
       " 'roc_auc_ovo_weighted',\n",
       " 'roc_auc_ovr',\n",
       " 'roc_auc_ovr_weighted',\n",
       " 'v_measure_score']"
      ]
     },
     "execution_count": 33,
     "metadata": {},
     "output_type": "execute_result"
    }
   ],
   "source": [
    "sorted(SCORERS.keys())"
   ]
  },
  {
   "cell_type": "markdown",
   "metadata": {},
   "source": [
    "# Plotting ROC & Precision-Recall Curves from scratch"
   ]
  },
  {
   "cell_type": "code",
   "execution_count": 34,
   "metadata": {},
   "outputs": [],
   "source": [
    "from sklearn.metrics import plot_roc_curve, plot_precision_recall_curve, roc_curve"
   ]
  },
  {
   "cell_type": "code",
   "execution_count": 35,
   "metadata": {},
   "outputs": [
    {
     "data": {
      "text/plain": [
       "[<matplotlib.lines.Line2D at 0x7f88b693c610>]"
      ]
     },
     "execution_count": 35,
     "metadata": {},
     "output_type": "execute_result"
    },
    {
     "data": {
      "image/png": "[encoded data removed]",
      "text/plain": [
       "<Figure size 432x288 with 1 Axes>"
      ]
     },
     "metadata": {
      "needs_background": "light"
     },
     "output_type": "display_data"
    }
   ],
   "source": [
    "plot_roc_curve(p, X_test, y_test) # p is pipeline created above\n",
    "plt.plot([0,1], [0,1], c='k')"
   ]
  },
  {
   "cell_type": "code",
   "execution_count": 36,
   "metadata": {},
   "outputs": [
    {
     "data": {
      "text/plain": [
       "0    1593\n",
       "1     407\n",
       "Name: Exited, dtype: int64"
      ]
     },
     "execution_count": 36,
     "metadata": {},
     "output_type": "execute_result"
    }
   ],
   "source": [
    "y_test.value_counts()"
   ]
  },
  {
   "cell_type": "code",
   "execution_count": 38,
   "metadata": {},
   "outputs": [
    {
     "data": {
      "text/plain": [
       "0.2035"
      ]
     },
     "execution_count": 38,
     "metadata": {},
     "output_type": "execute_result"
    }
   ],
   "source": [
    "407/(1593+407) # precision for 1 counts shows uneven data"
   ]
  },
  {
   "cell_type": "code",
   "execution_count": 40,
   "metadata": {},
   "outputs": [
    {
     "data": {
      "text/plain": [
       "<matplotlib.legend.Legend at 0x7f88b2b1df70>"
      ]
     },
     "execution_count": 40,
     "metadata": {},
     "output_type": "execute_result"
    },
    {
     "data": {
      "image/png": "[encoded data removed]",
      "text/plain": [
       "<Figure size 432x288 with 1 Axes>"
      ]
     },
     "metadata": {
      "needs_background": "light"
     },
     "output_type": "display_data"
    }
   ],
   "source": [
    "# PR curve is recommended in such cases\n",
    "plot_precision_recall_curve(p, X_test, y_test)\n",
    "plt.plot([0,1], [0.2035,0.2035], c='k')\n",
    "plt.legend(loc='best')"
   ]
  },
  {
   "cell_type": "code",
   "execution_count": 42,
   "metadata": {},
   "outputs": [
    {
     "data": {
      "text/plain": [
       "array([[0.49779903, 0.50220097],\n",
       "       [0.90256322, 0.09743678],\n",
       "       [0.73184616, 0.26815384],\n",
       "       ...,\n",
       "       [0.84510976, 0.15489024],\n",
       "       [0.52595321, 0.47404679],\n",
       "       [0.92008144, 0.07991856]])"
      ]
     },
     "execution_count": 42,
     "metadata": {},
     "output_type": "execute_result"
    }
   ],
   "source": [
    "#predicted probablity\n",
    "probs = p.predict_proba(X_test) # left col for negative class, right for positve class\n",
    "probs"
   ]
  },
  {
   "cell_type": "code",
   "execution_count": 43,
   "metadata": {},
   "outputs": [
    {
     "data": {
      "text/plain": [
       "array([0.50220097, 0.09743678, 0.26815384, ..., 0.15489024, 0.47404679,\n",
       "       0.07991856])"
      ]
     },
     "execution_count": 43,
     "metadata": {},
     "output_type": "execute_result"
    }
   ],
   "source": [
    "#predicted probablity\n",
    "probs = p.predict_proba(X_test)[:, 1] # only positive class \n",
    "probs"
   ]
  },
  {
   "cell_type": "code",
   "execution_count": 44,
   "metadata": {},
   "outputs": [
    {
     "data": {
      "text/plain": [
       "array([0, 1])"
      ]
     },
     "execution_count": 44,
     "metadata": {},
     "output_type": "execute_result"
    }
   ],
   "source": [
    "p.classes_"
   ]
  },
  {
   "cell_type": "code",
   "execution_count": 45,
   "metadata": {},
   "outputs": [],
   "source": [
    "from sklearn.preprocessing import Binarizer"
   ]
  },
  {
   "cell_type": "code",
   "execution_count": 46,
   "metadata": {},
   "outputs": [],
   "source": [
    "binarizer = Binarizer(threshold=0.9) # this will define a thrashold whether to put someone in positive/neg class"
   ]
  },
  {
   "cell_type": "code",
   "execution_count": 47,
   "metadata": {},
   "outputs": [
    {
     "data": {
      "text/plain": [
       "array([[0., 0., 0., ..., 0., 0., 0.]])"
      ]
     },
     "execution_count": 47,
     "metadata": {},
     "output_type": "execute_result"
    }
   ],
   "source": [
    "s = binarizer.fit_transform([probs])\n",
    "s"
   ]
  },
  {
   "cell_type": "code",
   "execution_count": 48,
   "metadata": {},
   "outputs": [
    {
     "data": {
      "text/plain": [
       "(array([0., 1.]), array([1999,    1]))"
      ]
     },
     "execution_count": 48,
     "metadata": {},
     "output_type": "execute_result"
    }
   ],
   "source": [
    "np.unique(s.ravel(), return_counts=True)"
   ]
  },
  {
   "cell_type": "code",
   "execution_count": 49,
   "metadata": {},
   "outputs": [],
   "source": [
    "# 0.1 thrashold val\n",
    "binarizer = Binarizer(threshold=0.1)"
   ]
  },
  {
   "cell_type": "code",
   "execution_count": 50,
   "metadata": {},
   "outputs": [
    {
     "data": {
      "text/plain": [
       "array([[1., 0., 1., ..., 1., 1., 0.]])"
      ]
     },
     "execution_count": 50,
     "metadata": {},
     "output_type": "execute_result"
    }
   ],
   "source": [
    "s = binarizer.fit_transform([probs])\n",
    "s"
   ]
  },
  {
   "cell_type": "code",
   "execution_count": 51,
   "metadata": {},
   "outputs": [
    {
     "data": {
      "text/plain": [
       "(array([0., 1.]), array([ 610, 1390]))"
      ]
     },
     "execution_count": 51,
     "metadata": {},
     "output_type": "execute_result"
    }
   ],
   "source": [
    "np.unique(s.ravel(), return_counts=True)"
   ]
  },
  {
   "cell_type": "code",
   "execution_count": 52,
   "metadata": {},
   "outputs": [],
   "source": [
    "fpr, tpr, thr = roc_curve(y_test, probs)"
   ]
  },
  {
   "cell_type": "code",
   "execution_count": 53,
   "metadata": {},
   "outputs": [
    {
     "data": {
      "text/plain": [
       "<matplotlib.collections.PathCollection at 0x7f88b6f6aa00>"
      ]
     },
     "execution_count": 53,
     "metadata": {},
     "output_type": "execute_result"
    },
    {
     "data": {
      "image/png": "[encoded data removed]",
      "text/plain": [
       "<Figure size 432x288 with 1 Axes>"
      ]
     },
     "metadata": {
      "needs_background": "light"
     },
     "output_type": "display_data"
    }
   ],
   "source": [
    "plt.scatter(fpr, tpr)"
   ]
  },
  {
   "cell_type": "code",
   "execution_count": 54,
   "metadata": {},
   "outputs": [
    {
     "data": {
      "text/plain": [
       "[0.011282896566442442,\n",
       " 0.011584133700794154,\n",
       " 0.01181577420402174,\n",
       " 0.014277033272092272,\n",
       " 0.014383911431994386,\n",
       " 0.01634537296579658,\n",
       " 0.016793352244307867,\n",
       " 0.017303878523792164,\n",
       " 0.017585970945906543,\n",
       " 0.017838294511241314,\n",
       " 0.01792196374965055,\n",
       " 0.018452782701086183,\n",
       " 0.01877771737980492,\n",
       " 0.01893267612817138,\n",
       " 0.01958178150057265,\n",
       " 0.0209231532718317,\n",
       " 0.02134455470627442,\n",
       " 0.021492507643872914,\n",
       " 0.021566475587599887,\n",
       " 0.021644990660008887,\n",
       " 0.022307369612987123,\n",
       " 0.022549148444802162,\n",
       " 0.022586709257244274,\n",
       " 0.02298557609391298,\n",
       " 0.023675462509370495,\n",
       " 0.023932052778449734,\n",
       " 0.02445144824820358,\n",
       " 0.024588438836331467,\n",
       " 0.024916162840237167,\n",
       " 0.024935596206417235,\n",
       " 0.025295015829755962,\n",
       " 0.02533164685556057,\n",
       " 0.025482669392532693,\n",
       " 0.025542520026483984,\n",
       " 0.025781516135382314,\n",
       " 0.025912309400116827,\n",
       " 0.026133497949310403,\n",
       " 0.02663719542948619,\n",
       " 0.026677167974307667,\n",
       " 0.027060467959347807,\n",
       " 0.027231669923709793,\n",
       " 0.027309601447184372,\n",
       " 0.027503717769293168,\n",
       " 0.02760380498803252,\n",
       " 0.027779093499741073,\n",
       " 0.0278040596264389,\n",
       " 0.027889228110578916,\n",
       " 0.028071128931922047,\n",
       " 0.028249598759630967,\n",
       " 0.028258262348133334,\n",
       " 0.028350792067963447,\n",
       " 0.028730146873161683,\n",
       " 0.02885969422748229,\n",
       " 0.028925522536086476,\n",
       " 0.02908672803579358,\n",
       " 0.02936488015594476,\n",
       " 0.02958550931326325,\n",
       " 0.029726617221305335,\n",
       " 0.029788928567508404,\n",
       " 0.03022311782206524,\n",
       " 0.03026690222372219,\n",
       " 0.030291350680229638,\n",
       " 0.030357066609768207,\n",
       " 0.030461563565946054,\n",
       " 0.030521052602312828,\n",
       " 0.030617646883737352,\n",
       " 0.0307426801452547,\n",
       " 0.030765679907994902,\n",
       " 0.031022236012397737,\n",
       " 0.031183550561334143,\n",
       " 0.031220875475090854,\n",
       " 0.03132999786407161,\n",
       " 0.031954943651772205,\n",
       " 0.03197668401097997,\n",
       " 0.03214249319153663,\n",
       " 0.032161289828044295,\n",
       " 0.03221666279779447,\n",
       " 0.03227335751059683,\n",
       " 0.03252098481439368,\n",
       " 0.0335594991426866,\n",
       " 0.03356035651161644,\n",
       " 0.03356605851162435,\n",
       " 0.033787914958525504,\n",
       " 0.03397246548989948,\n",
       " 0.03437562741599531,\n",
       " 0.03438779915308228,\n",
       " 0.03447826730839574,\n",
       " 0.03447849702861903,\n",
       " 0.034882285764556105,\n",
       " 0.03505126057565333,\n",
       " 0.03511225986744314,\n",
       " 0.035344346415011725,\n",
       " 0.035509161322840065,\n",
       " 0.035769572254729036,\n",
       " 0.03586304364540938,\n",
       " 0.035998949111420854,\n",
       " 0.03623674637710777,\n",
       " 0.03678034882593162,\n",
       " 0.037261656085690695,\n",
       " 0.03728433446699297,\n",
       " 0.03731813157734102,\n",
       " 0.037371414168726115,\n",
       " 0.0375331384626833,\n",
       " 0.037631701981690885,\n",
       " 0.03771273966539625,\n",
       " 0.0378078038985633,\n",
       " 0.037878531951847566,\n",
       " 0.03803158811569527,\n",
       " 0.03808360376924374,\n",
       " 0.03814619252480653,\n",
       " 0.03835662445783501,\n",
       " 0.0385294151620204,\n",
       " 0.03854344319714808,\n",
       " 0.038574736879500325,\n",
       " 0.03895366713919506,\n",
       " 0.039186722020092275,\n",
       " 0.03931072025496621,\n",
       " 0.03936880048346506,\n",
       " 0.03943869279275901,\n",
       " 0.039478719146828996,\n",
       " 0.039605079383907026,\n",
       " 0.039657693278737534,\n",
       " 0.04002660725670803,\n",
       " 0.04029969656349497,\n",
       " 0.04036141958517085,\n",
       " 0.04038908621262393,\n",
       " 0.04062288756246038,\n",
       " 0.04064358767864674,\n",
       " 0.0408582865057975,\n",
       " 0.041028330863301,\n",
       " 0.04104453935661725,\n",
       " 0.04107955866791772,\n",
       " 0.041114076698254294,\n",
       " 0.04115960068614579,\n",
       " 0.0411900906135527,\n",
       " 0.041327457929097255,\n",
       " 0.041337026208791094,\n",
       " 0.04150204872287041,\n",
       " 0.04151202802679508,\n",
       " 0.041722420617751735,\n",
       " 0.04174061712937084,\n",
       " 0.041802812927481225,\n",
       " 0.04195769805761234,\n",
       " 0.04208396109873628,\n",
       " 0.042118811226232386,\n",
       " 0.042196315399358364,\n",
       " 0.04231094125926428,\n",
       " 0.04250169338156671,\n",
       " 0.0426766722676168,\n",
       " 0.04282269941809908,\n",
       " 0.043008248568792,\n",
       " 0.04311302485682059,\n",
       " 0.043770655262368056,\n",
       " 0.04383835315007249,\n",
       " 0.043948079058429734,\n",
       " 0.04410174155097806,\n",
       " 0.04414751663507102,\n",
       " 0.044161406596528785,\n",
       " 0.04429610249006674,\n",
       " 0.044379615790007196,\n",
       " 0.044461753568366964,\n",
       " 0.0445444766389053,\n",
       " 0.044730821404164116,\n",
       " 0.0448550351626413,\n",
       " 0.044961891330760555,\n",
       " 0.044997941663452584,\n",
       " 0.045090234362669276,\n",
       " 0.04510754424664178,\n",
       " 0.045250557912138785,\n",
       " 0.04535125879718775,\n",
       " 0.04565391627906732,\n",
       " 0.045777319360642776,\n",
       " 0.04588833312311641,\n",
       " 0.04608137264545018,\n",
       " 0.04612207242435516,\n",
       " 0.046137741649136546,\n",
       " 0.04614085014010746,\n",
       " 0.04619573176489575,\n",
       " 0.046225255954698063,\n",
       " 0.046823781357862165,\n",
       " 0.04696593541859382,\n",
       " 0.047050240310887344,\n",
       " 0.0472149835365553,\n",
       " 0.047441327490307744,\n",
       " 0.047480408960196945,\n",
       " 0.04763802101533183,\n",
       " 0.04765600419071649,\n",
       " 0.047898539688613094,\n",
       " 0.048020272258286534,\n",
       " 0.04815612293488932,\n",
       " 0.04830323522237853,\n",
       " 0.04843582769152303,\n",
       " 0.0485584331925961,\n",
       " 0.04864272200669925,\n",
       " 0.048662799137772696,\n",
       " 0.048732203326944355,\n",
       " 0.048858556486091345,\n",
       " 0.04906117550233029,\n",
       " 0.049105453130302436,\n",
       " 0.049258112857095915,\n",
       " 0.049300769094775106,\n",
       " 0.0493547464494214,\n",
       " 0.049363013155931036,\n",
       " 0.04937987861195442,\n",
       " 0.04939329367025268,\n",
       " 0.04964824037398486,\n",
       " 0.04969526211522195,\n",
       " 0.049902458585933354,\n",
       " 0.04999457174051126,\n",
       " 0.050330257799312605,\n",
       " 0.05035534109118193,\n",
       " 0.05035636343650163,\n",
       " 0.05035747554015584,\n",
       " 0.05087305147311037,\n",
       " 0.05105793489129611,\n",
       " 0.05112916863693256,\n",
       " 0.051211729546137556,\n",
       " 0.0512641750257511,\n",
       " 0.051330995165352875,\n",
       " 0.05146806623419356,\n",
       " 0.05164338797852954,\n",
       " 0.05171070763306486,\n",
       " 0.051822646616179135,\n",
       " 0.05194182397569897,\n",
       " 0.052060547293963415,\n",
       " 0.05209159199305269,\n",
       " 0.05248943221918825,\n",
       " 0.05253753668904878,\n",
       " 0.05267526824100428,\n",
       " 0.05274473741169476,\n",
       " 0.05278874632836468,\n",
       " 0.05301381716267607,\n",
       " 0.05302220988924707,\n",
       " 0.053047245067295766,\n",
       " 0.05311263930423754,\n",
       " 0.053190350285174645,\n",
       " 0.05329152233791794,\n",
       " 0.053320824635043514,\n",
       " 0.053377684247447314,\n",
       " 0.053412439515365895,\n",
       " 0.053499377556055445,\n",
       " 0.05383065876828603,\n",
       " 0.05410977029384472,\n",
       " 0.05422502024805967,\n",
       " 0.05424664176055768,\n",
       " 0.054346849867884066,\n",
       " 0.0543480941276951,\n",
       " 0.05435458200762212,\n",
       " 0.05442460725199173,\n",
       " 0.05445097095680322,\n",
       " 0.05459395803437099,\n",
       " 0.05473413498524557,\n",
       " 0.05490981024623195,\n",
       " 0.05512747421918503,\n",
       " 0.05541140481844209,\n",
       " 0.05562482541376495,\n",
       " 0.05580582746358612,\n",
       " 0.055933785641417065,\n",
       " 0.05601600966829018,\n",
       " 0.056031125568659405,\n",
       " 0.05610738658281817,\n",
       " 0.05611860837765693,\n",
       " 0.05630938650539037,\n",
       " 0.056491512401895955,\n",
       " 0.057018547524253886,\n",
       " 0.05714196658680129,\n",
       " 0.0571761853797441,\n",
       " 0.05720798168396128,\n",
       " 0.05756214610600487,\n",
       " 0.0576361603262005,\n",
       " 0.057691246009235315,\n",
       " 0.05777363662390662,\n",
       " 0.05796549302624297,\n",
       " 0.058164834307611275,\n",
       " 0.05846587495450456,\n",
       " 0.0584709773780645,\n",
       " 0.0586080452105335,\n",
       " 0.058743662734527705,\n",
       " 0.05887849648900259,\n",
       " 0.05888670696204259,\n",
       " 0.05888884233109181,\n",
       " 0.058947853815326794,\n",
       " 0.05896737866614487,\n",
       " 0.059005944098519454,\n",
       " 0.059088267143877285,\n",
       " 0.059155779215406,\n",
       " 0.05928068011207645,\n",
       " 0.059373931812683044,\n",
       " 0.059389278322126024,\n",
       " 0.05939454232662491,\n",
       " 0.059438560240879366,\n",
       " 0.05945828208833901,\n",
       " 0.05951130818030816,\n",
       " 0.05953171919767088,\n",
       " 0.05956243180287073,\n",
       " 0.05963376829596272,\n",
       " 0.05973536676485624,\n",
       " 0.059778460728927174,\n",
       " 0.05983797685920703,\n",
       " 0.05986896644739868,\n",
       " 0.05991875639113228,\n",
       " 0.06002442039968341,\n",
       " 0.06013011773176523,\n",
       " 0.060219996802842755,\n",
       " 0.060297597544467084,\n",
       " 0.060398473833067574,\n",
       " 0.06047263836720347,\n",
       " 0.060668634524278654,\n",
       " 0.06069713043362528,\n",
       " 0.0607472019131233,\n",
       " 0.06093341850113524,\n",
       " 0.06127952779834862,\n",
       " 0.06130513410444327,\n",
       " 0.06143311300006695,\n",
       " 0.06159126577359324,\n",
       " 0.06184387764235603,\n",
       " 0.06209709192430099,\n",
       " 0.062148619895963035,\n",
       " 0.06222063043677483,\n",
       " 0.06224063366086782,\n",
       " 0.06242677912889507,\n",
       " 0.06245908861657573,\n",
       " 0.06261409504317929,\n",
       " 0.06265033045864576,\n",
       " 0.06284451434174493,\n",
       " 0.06331839966092712,\n",
       " 0.06342097539973429,\n",
       " 0.06359638054323426,\n",
       " 0.06370885898482964,\n",
       " 0.06403126669167573,\n",
       " 0.06403397743658787,\n",
       " 0.06411711392671303,\n",
       " 0.06439093650252439,\n",
       " 0.06464740011533761,\n",
       " 0.06498228483499206,\n",
       " 0.06504923005230215,\n",
       " 0.06505036262565257,\n",
       " 0.0652064281006828,\n",
       " 0.06534338131996391,\n",
       " 0.06559021028300041,\n",
       " 0.06568752639736751,\n",
       " 0.06582029344174975,\n",
       " 0.06589447796845457,\n",
       " 0.06589644809196385,\n",
       " 0.06598590889997125,\n",
       " 0.06604075274408454,\n",
       " 0.066165635684808,\n",
       " 0.06621531380986923,\n",
       " 0.06622028530794724,\n",
       " 0.06639067822642881,\n",
       " 0.0665127810790688,\n",
       " 0.06654425374957702,\n",
       " 0.06659923585337081,\n",
       " 0.06673339468607867,\n",
       " 0.06726467045288817,\n",
       " 0.06728043008249943,\n",
       " 0.06729945719048326,\n",
       " 0.06730844402422517,\n",
       " 0.06773805900871804,\n",
       " 0.06812164682478354,\n",
       " 0.06822323406659897,\n",
       " 0.06825858677400531,\n",
       " 0.0683797834451087,\n",
       " 0.06848279534188789,\n",
       " 0.06849831314268963,\n",
       " 0.06851101529118064,\n",
       " 0.06860714989383612,\n",
       " 0.06862638260882652,\n",
       " 0.0689000940149531,\n",
       " 0.068908052849408,\n",
       " 0.06901792111904521,\n",
       " 0.06916480284875609,\n",
       " 0.06922902844452933,\n",
       " 0.06923777593838788,\n",
       " 0.0692642185844293,\n",
       " 0.06929042000799891,\n",
       " 0.06943446502861794,\n",
       " 0.0695224220254513,\n",
       " 0.069626566968826,\n",
       " 0.0697282780890708,\n",
       " 0.06973841696542296,\n",
       " 0.06975075851953524,\n",
       " 0.06977417215092739,\n",
       " 0.06981499734193172,\n",
       " 0.06987907438993418,\n",
       " 0.0700558344526338,\n",
       " 0.07020401607139341,\n",
       " 0.07044586764170736,\n",
       " 0.07045031628050293,\n",
       " 0.07063436728759048,\n",
       " 0.07074312004364838,\n",
       " 0.0707502593641486,\n",
       " 0.07079629880977867,\n",
       " 0.07082128647607881,\n",
       " 0.07088012418986608,\n",
       " 0.07110550991608094,\n",
       " 0.07120141466261695,\n",
       " 0.07120373031285665,\n",
       " 0.07134641586620545,\n",
       " 0.07141929149062168,\n",
       " 0.07143421897731912,\n",
       " 0.07153479834910652,\n",
       " 0.07155823733092041,\n",
       " 0.07170801566375443,\n",
       " 0.07174726839437877,\n",
       " 0.07184469544377012,\n",
       " 0.0721400168109338,\n",
       " 0.07218887468553808,\n",
       " 0.0721940405760114,\n",
       " 0.0722156593420582,\n",
       " 0.07226615784655695,\n",
       " 0.0722689745155537,\n",
       " 0.0727142629880958,\n",
       " 0.07305044341899482,\n",
       " 0.07320166899787883,\n",
       " 0.07321087929729972,\n",
       " 0.07325067701011523,\n",
       " 0.07330862597582592,\n",
       " 0.0733426013554595,\n",
       " 0.0734277239939124,\n",
       " 0.07357009995614107,\n",
       " 0.07359014754139265,\n",
       " 0.07359566613880118,\n",
       " 0.07368427407147637,\n",
       " 0.07381313600609153,\n",
       " 0.07386412796689121,\n",
       " 0.07392442833159896,\n",
       " 0.07394326621773915,\n",
       " 0.07409671137916102,\n",
       " 0.07435004572097337,\n",
       " 0.07442243405266859,\n",
       " 0.07456746003614258,\n",
       " 0.07462675055042294,\n",
       " 0.07479464693783884,\n",
       " 0.07511650176522257,\n",
       " 0.07536379557329782,\n",
       " 0.07539050071020324,\n",
       " 0.0754383865950806,\n",
       " 0.07549179186746893,\n",
       " 0.07569505669974672,\n",
       " 0.0759304706346562,\n",
       " 0.07594389755754259,\n",
       " 0.07594473956790007,\n",
       " 0.07610824186360374,\n",
       " 0.07615055302315107,\n",
       " 0.07619343586502857,\n",
       " 0.07625238467959228,\n",
       " 0.07657867418999234,\n",
       " 0.07675098119310333,\n",
       " 0.07681565475783646,\n",
       " 0.0769984997226483,\n",
       " 0.07723430068085677,\n",
       " 0.07724575279036539,\n",
       " 0.07724765810973411,\n",
       " 0.07725315719804873,\n",
       " 0.07759986617009375,\n",
       " 0.07761825303607221,\n",
       " 0.07807841311512378,\n",
       " 0.07808781150021335,\n",
       " 0.07813801681002089,\n",
       " 0.07836507744214978,\n",
       " 0.07844033257295212,\n",
       " 0.0784937605178135,\n",
       " 0.07855497488248214,\n",
       " 0.0788603056366306,\n",
       " 0.0792112729650318,\n",
       " 0.07926712856178929,\n",
       " 0.0795893541054321,\n",
       " 0.07959396019526387,\n",
       " 0.07963117185143288,\n",
       " 0.07986818628896973,\n",
       " 0.07991856428705427,\n",
       " 0.08025463513181873,\n",
       " 0.08033433837628372,\n",
       " 0.08042376401384192,\n",
       " 0.08054567643099714,\n",
       " 0.08078833952524102,\n",
       " 0.08086611094091478,\n",
       " 0.0809604681058404,\n",
       " 0.08097033831247531,\n",
       " 0.08106047233951613,\n",
       " 0.08108593545513122,\n",
       " 0.08132987070981118,\n",
       " 0.08135702913691091,\n",
       " 0.08160746347110347,\n",
       " 0.08184447706959065,\n",
       " 0.08194068711849536,\n",
       " 0.08198152299561254,\n",
       " 0.08199672593044693,\n",
       " 0.08211138562772582,\n",
       " 0.08221688261282187,\n",
       " 0.0823858121388487,\n",
       " 0.08253285889438754,\n",
       " 0.08286973110116135,\n",
       " 0.08293176609722884,\n",
       " 0.08294093691996632,\n",
       " 0.08312424221873055,\n",
       " 0.08312747590056144,\n",
       " 0.08343189594556688,\n",
       " 0.08372888719323235,\n",
       " 0.08390191395312693,\n",
       " 0.08394710321889162,\n",
       " 0.08398097373159193,\n",
       " 0.08402878422109449,\n",
       " 0.08420682912820374,\n",
       " 0.08421695166246572,\n",
       " 0.0842709208358893,\n",
       " 0.08446740599238056,\n",
       " 0.08460935646935298,\n",
       " 0.08468995263179632,\n",
       " 0.08485979106505923,\n",
       " 0.08499729747188962,\n",
       " 0.0850814173927601,\n",
       " 0.08528274418266682,\n",
       " 0.08537742296712325,\n",
       " 0.0853890228362098,\n",
       " 0.085495798169741,\n",
       " 0.08572661629686726,\n",
       " 0.08584442601339068,\n",
       " 0.08601450628343878,\n",
       " 0.08603616198337241,\n",
       " 0.08655216440274953,\n",
       " 0.08659000386694445,\n",
       " 0.08660024810265456,\n",
       " 0.08688852988324872,\n",
       " 0.0869966870689335,\n",
       " 0.08702641757293836,\n",
       " 0.08703062297036024,\n",
       " 0.08724340192574767,\n",
       " 0.08751188602026384,\n",
       " 0.08755041492499298,\n",
       " 0.08758457597361202,\n",
       " 0.0877460532060291,\n",
       " 0.08790449885261895,\n",
       " 0.08793760346189597,\n",
       " 0.08795141417219143,\n",
       " 0.08839992382524714,\n",
       " 0.08840143197828375,\n",
       " 0.08859122740142845,\n",
       " 0.08878177037769819,\n",
       " 0.0888062202177074,\n",
       " 0.0888069546825651,\n",
       " 0.08882464599574189,\n",
       " 0.08922660960845367,\n",
       " 0.08931561484724251,\n",
       " 0.08937114368697795,\n",
       " 0.08958439419361908,\n",
       " 0.08970527026974903,\n",
       " 0.0897441221616303,\n",
       " 0.0897752429234361,\n",
       " 0.08995413191282312,\n",
       " 0.09075319581047069,\n",
       " 0.09075855019582947,\n",
       " 0.09095663449475383,\n",
       " 0.09118108992185321,\n",
       " 0.09121696841024939,\n",
       " 0.09122488187366645,\n",
       " 0.09152892235834574,\n",
       " 0.09173343620494842,\n",
       " 0.09179667338935536,\n",
       " 0.09189694051705674,\n",
       " 0.0919328359418,\n",
       " 0.09197254326286762,\n",
       " 0.0920136989274306,\n",
       " 0.0920323322909343,\n",
       " 0.09205500498560365,\n",
       " 0.09211682082846552,\n",
       " 0.09225587217016802,\n",
       " 0.09227512410401241,\n",
       " 0.09228474026074836,\n",
       " 0.09245463524704407,\n",
       " 0.09251485795714963,\n",
       " 0.09268961041961547,\n",
       " 0.09278360367464787,\n",
       " 0.09298137119440358,\n",
       " 0.09306322156737265,\n",
       " 0.09327743289362961,\n",
       " 0.0933512654488917,\n",
       " 0.09348426106718764,\n",
       " 0.0937326754032043,\n",
       " 0.09380998159265098,\n",
       " 0.09426688296940203,\n",
       " 0.09452559321724241,\n",
       " 0.09482590857436597,\n",
       " 0.09491550917796829,\n",
       " 0.095054810194991,\n",
       " 0.09564550295732581,\n",
       " 0.09588096445059824,\n",
       " 0.09606184293624517,\n",
       " 0.0962624983817017,\n",
       " 0.09629404467810299,\n",
       " 0.09633587333155903,\n",
       " 0.09641328855100893,\n",
       " 0.09666148697327392,\n",
       " 0.09671922425915701,\n",
       " 0.09706546732039016,\n",
       " 0.09719891854149974,\n",
       " 0.09725032746454605,\n",
       " 0.09725427294744118,\n",
       " 0.09737987841955513,\n",
       " 0.09743677966435144,\n",
       " 0.09763497261214396,\n",
       " 0.09793941793443288,\n",
       " 0.0981337026898188,\n",
       " 0.09830565340286601,\n",
       " 0.09879344646192911,\n",
       " 0.09899833595061767,\n",
       " 0.09923482726359968,\n",
       " 0.0995704493385316,\n",
       " 0.0996823383637421,\n",
       " 0.10028578284959974,\n",
       " 0.10031646849962468,\n",
       " 0.10032401063334884,\n",
       " 0.10070143009081804,\n",
       " 0.10103068723893405,\n",
       " 0.10127615741328791,\n",
       " 0.10149481866471965,\n",
       " 0.10155785056856798,\n",
       " 0.10164999865600403,\n",
       " 0.10168624116341862,\n",
       " 0.10196939374012316,\n",
       " 0.10201577705408281,\n",
       " 0.10217531968109379,\n",
       " 0.1021886620430595,\n",
       " 0.10223258550914277,\n",
       " 0.1023632414869927,\n",
       " 0.10245191399262506,\n",
       " 0.10267099830287083,\n",
       " 0.10282044634283709,\n",
       " 0.10283215950527518,\n",
       " 0.10308946750519496,\n",
       " 0.1031383339203153,\n",
       " 0.1031887979542007,\n",
       " 0.10329920035852881,\n",
       " 0.10362134853501019,\n",
       " 0.10376129839276535,\n",
       " 0.1037737772063714,\n",
       " 0.10377864907450739,\n",
       " 0.10402105134811866,\n",
       " 0.10409741895807378,\n",
       " 0.10419841723006844,\n",
       " 0.10426765315626271,\n",
       " 0.10455288492401671,\n",
       " 0.10469529553374333,\n",
       " 0.10471154370797017,\n",
       " 0.1047286336672202,\n",
       " 0.10474455784369337,\n",
       " 0.1049388599465947,\n",
       " 0.1051038248150979,\n",
       " 0.10514304765833457,\n",
       " 0.10515180811175451,\n",
       " 0.10520136910912507,\n",
       " 0.10528484667369564,\n",
       " 0.10536714682085863,\n",
       " 0.10546483541145472,\n",
       " 0.10557097138483489,\n",
       " 0.10587307242122383,\n",
       " 0.10627095476294944,\n",
       " 0.10653653765465464,\n",
       " 0.10656692231194088,\n",
       " 0.10666301720968072,\n",
       " 0.10668132125233644,\n",
       " 0.10673727579208925,\n",
       " 0.10680936068727052,\n",
       " 0.10696427334686714,\n",
       " 0.10705429896336288,\n",
       " 0.10705509270069917,\n",
       " 0.10708528753655361,\n",
       " 0.10723871666041287,\n",
       " 0.10745346115977693,\n",
       " 0.10774011735629399,\n",
       " 0.1079399181146555,\n",
       " 0.1079989567888087,\n",
       " 0.10807193985072165,\n",
       " 0.1080735070423781,\n",
       " 0.10827612001626978,\n",
       " 0.10833651493275623,\n",
       " 0.1083701262851715,\n",
       " 0.10899470460186544,\n",
       " 0.10956233247921451,\n",
       " 0.10967498192173813,\n",
       " 0.10972461049060302,\n",
       " 0.10977702427021349,\n",
       " 0.10992138834085163,\n",
       " 0.11005615356691843,\n",
       " 0.11009637037866259,\n",
       " 0.1101938676424083,\n",
       " 0.11019469840134649,\n",
       " 0.11040271532358323,\n",
       " 0.11059789405135131,\n",
       " 0.11060439552013338,\n",
       " 0.1107414455771513,\n",
       " 0.11106122094342193,\n",
       " 0.11117040833861627,\n",
       " 0.11128645150568575,\n",
       " 0.11132859534760894,\n",
       " 0.11146171584879369,\n",
       " 0.11192639782260247,\n",
       " 0.1122154247264485,\n",
       " 0.11221801367521893,\n",
       " 0.11223578146297916,\n",
       " 0.11227643338541057,\n",
       " 0.11229263327820195,\n",
       " 0.11232344942074558,\n",
       " 0.11245393995631975,\n",
       " 0.11272886825877201,\n",
       " 0.11290183440145525,\n",
       " 0.11312395841744968,\n",
       " 0.11333977789190083,\n",
       " 0.1133822988320046,\n",
       " 0.11351446687080798,\n",
       " 0.11364375655013972,\n",
       " 0.11364888169389405,\n",
       " 0.11375487972322319,\n",
       " 0.11379415839774214,\n",
       " 0.11406119275812597,\n",
       " 0.11437878799886628,\n",
       " 0.1145071319994971,\n",
       " 0.11455045789761292,\n",
       " 0.11465251573201826,\n",
       " 0.11496402764145915,\n",
       " 0.11521477796317699,\n",
       " 0.11527342632997736,\n",
       " 0.11534752907648728,\n",
       " 0.11560158800405045,\n",
       " 0.11576863508000738,\n",
       " 0.1158453502099739,\n",
       " 0.11650733428687672,\n",
       " 0.11658981278365567,\n",
       " 0.11668222332158852,\n",
       " 0.11709873676140116,\n",
       " 0.11715710204254741,\n",
       " 0.11716444746241503,\n",
       " 0.11717567226436701,\n",
       " 0.11739720410885436,\n",
       " 0.11744769952926658,\n",
       " 0.11746836169447018,\n",
       " 0.11749147721298452,\n",
       " 0.11781766866600799,\n",
       " 0.11792044333785798,\n",
       " 0.11801626023109184,\n",
       " 0.11825075357586363,\n",
       " 0.11825328251233688,\n",
       " 0.11827013233363483,\n",
       " 0.11850070202433137,\n",
       " 0.11867250743788572,\n",
       " 0.11877877319253283,\n",
       " 0.11923932423844398,\n",
       " 0.11933088978982588,\n",
       " 0.11934084549597841,\n",
       " 0.11937024896558654,\n",
       " 0.11949607496141859,\n",
       " 0.11960846774343285,\n",
       " 0.11971426334101636,\n",
       " 0.11978546160521097,\n",
       " 0.12024820573768169,\n",
       " 0.12027181616568036,\n",
       " 0.1202881668712719,\n",
       " 0.12035455122546466,\n",
       " 0.12098850172514698,\n",
       " 0.12111681286581333,\n",
       " 0.12117564913956952,\n",
       " 0.12124819958931213,\n",
       " 0.12146330173068633,\n",
       " 0.12146617700495407,\n",
       " 0.12173516494064526,\n",
       " 0.12208957671099516,\n",
       " 0.12209441239388656,\n",
       " 0.12210271226260358,\n",
       " 0.12230064438097385,\n",
       " 0.12252695782297414,\n",
       " 0.12270997291374507,\n",
       " 0.12283491058980549,\n",
       " 0.12295115228072238,\n",
       " 0.12296424547078132,\n",
       " 0.1229757227944255,\n",
       " 0.12300083942384958,\n",
       " 0.12314329008219807,\n",
       " 0.12326671580728045,\n",
       " 0.123405909582689,\n",
       " 0.12355508788193482,\n",
       " 0.12364509174416541,\n",
       " 0.12407569923641268,\n",
       " 0.12420090370691604,\n",
       " 0.12427234907985962,\n",
       " 0.12475875288665339,\n",
       " 0.12478532141453658,\n",
       " 0.12523546843777061,\n",
       " 0.1253900355914144,\n",
       " 0.12548715391451504,\n",
       " 0.1258009721366281,\n",
       " 0.12585474672926356,\n",
       " 0.12600170931414195,\n",
       " 0.12605347986955923,\n",
       " 0.1263018943806767,\n",
       " 0.12642595034190948,\n",
       " 0.1264434555381994,\n",
       " 0.12662985500782317,\n",
       " 0.12668162682667156,\n",
       " 0.12669867812532937,\n",
       " 0.12672979829433706,\n",
       " 0.12676405007505295,\n",
       " 0.12678828246380652,\n",
       " 0.1269761923090996,\n",
       " 0.12728180090985103,\n",
       " 0.12731468942870788,\n",
       " 0.1273596088974585,\n",
       " 0.12759699895619694,\n",
       " 0.1276016455379815,\n",
       " 0.12764520895664147,\n",
       " 0.12789011700833525,\n",
       " 0.12803782473085096,\n",
       " 0.12824017727139317,\n",
       " 0.12840348455756173,\n",
       " 0.12877854347872045,\n",
       " 0.12879098398597513,\n",
       " 0.12884353182921465,\n",
       " 0.1292498347332633,\n",
       " 0.12925893431992372,\n",
       " 0.129884269351773,\n",
       " 0.13003769711583257,\n",
       " 0.13012993974275405,\n",
       " 0.1308779869047562,\n",
       " 0.1310531550149089,\n",
       " 0.13106886441407095,\n",
       " 0.13116895164437375,\n",
       " 0.13117977827348523,\n",
       " 0.13137979072637962,\n",
       " 0.13207445290545555,\n",
       " 0.13235540760981243,\n",
       " 0.1324177880638766,\n",
       " 0.13245374423696407,\n",
       " 0.13247824063784883,\n",
       " 0.13268367359875244,\n",
       " 0.1326885312643224,\n",
       " 0.1333994312985468,\n",
       " 0.13378392977351525,\n",
       " 0.13402350954497821,\n",
       " 0.1340631226021312,\n",
       " 0.1341390650886075,\n",
       " 0.13414066731914417,\n",
       " 0.1344715192094128,\n",
       " 0.1347836054723306,\n",
       " 0.1349552564434122,\n",
       " 0.1350759160982456,\n",
       " 0.1351392593704312,\n",
       " 0.13527345741183253,\n",
       " 0.13527712146348964,\n",
       " 0.13571156234096451,\n",
       " 0.1361292556227025,\n",
       " 0.13615768350855142,\n",
       " 0.13641932244795194,\n",
       " 0.13654947118254998,\n",
       " 0.136566112608982,\n",
       " 0.13661403359894933,\n",
       " 0.1367182595915304,\n",
       " 0.13679585413941056,\n",
       " 0.13698645802414985,\n",
       " 0.13728496002109547,\n",
       " 0.1372974882755623,\n",
       " 0.13752595216300434,\n",
       " 0.13758358201926763,\n",
       " 0.13762887543025662,\n",
       " 0.1376955132872962,\n",
       " 0.1377685085624211,\n",
       " 0.13784565868494716,\n",
       " 0.13812959642282288,\n",
       " 0.13823500764415997,\n",
       " 0.138402433724262,\n",
       " 0.13888631715256405,\n",
       " 0.13889007573118625,\n",
       " 0.13898570760485188,\n",
       " 0.13925549655910863,\n",
       " 0.13936604583810494,\n",
       " 0.13946125212627536,\n",
       " 0.1395801052158153,\n",
       " 0.1396504677356701,\n",
       " 0.13986005388135225,\n",
       " 0.13991282633566843,\n",
       " 0.14017546852888113,\n",
       " 0.14025062180174905,\n",
       " 0.14028717082974015,\n",
       " 0.1403534944725237,\n",
       " 0.14037913816754125,\n",
       " 0.14066294098089124,\n",
       " 0.14084946390997014,\n",
       " 0.14088076944447991,\n",
       " 0.1411307028137898,\n",
       " 0.14120597717659808,\n",
       " 0.1412614622824675,\n",
       " 0.14173491325502804,\n",
       " 0.14177180181182983,\n",
       " 0.1417730302804189,\n",
       " 0.14180322809940454,\n",
       " 0.141917368329109,\n",
       " 0.14195504858345506,\n",
       " 0.1422009640729349,\n",
       " 0.14306522379944991,\n",
       " 0.14326704310157334,\n",
       " 0.14344117656299138,\n",
       " 0.14351342424097183,\n",
       " 0.14367611188179968,\n",
       " 0.14424401604287232,\n",
       " 0.14432464146316573,\n",
       " 0.14446654896475286,\n",
       " 0.14455436680885894,\n",
       " 0.14472861972691256,\n",
       " 0.1447950461765296,\n",
       " 0.14483968053668947,\n",
       " 0.14530025483207862,\n",
       " 0.14531696116327117,\n",
       " 0.14558501746436597,\n",
       " 0.14572664557646087,\n",
       " 0.14594713274600812,\n",
       " 0.14625498780726115,\n",
       " 0.1469147771793871,\n",
       " 0.14693926252738332,\n",
       " 0.1469397619527825,\n",
       " 0.14696305696023026,\n",
       " 0.14704446951037364,\n",
       " 0.14735918756807698,\n",
       " 0.14772112846695915,\n",
       " 0.14776843664736894,\n",
       " 0.14786344940453794,\n",
       " 0.1478938509206134,\n",
       " 0.1479164782404326,\n",
       " 0.14833564412626016,\n",
       " 0.1483897815245839,\n",
       " 0.14876756605645283,\n",
       " 0.14880543509476593,\n",
       " 0.14916210244246336,\n",
       " 0.14925439923082562,\n",
       " 0.14925811172515732,\n",
       " 0.14933239746287671,\n",
       " 0.1493826047376436,\n",
       " 0.14963539146546667,\n",
       " 0.14981626972730508,\n",
       " 0.14982594126513854,\n",
       " 0.15000592187568407,\n",
       " 0.15024452522690843,\n",
       " 0.15076504549455785,\n",
       " 0.1510602697243864,\n",
       " 0.15141976114618558,\n",
       " 0.1514507431538905,\n",
       " 0.1514563444527588,\n",
       " 0.15148224403582533,\n",
       " 0.1517944600156891,\n",
       " 0.15186749991972476,\n",
       " 0.15186869791529692,\n",
       " 0.15228660519229514,\n",
       " 0.15255303388890853,\n",
       " 0.15276956025601737,\n",
       " 0.15300163683941884,\n",
       " 0.1530617099197407,\n",
       " 0.15306490283567492,\n",
       " 0.15326223184203377,\n",
       " 0.15333365786540668,\n",
       " 0.15339721584207722,\n",
       " 0.15345652625196393,\n",
       " 0.153555660912905,\n",
       " 0.15362785215091554,\n",
       " 0.15368427191894618,\n",
       " 0.1539964303438706,\n",
       " 0.154064629739085,\n",
       " 0.15424151964144986,\n",
       " 0.15439326887914737,\n",
       " 0.15439450354682133,\n",
       " 0.15470350450935766,\n",
       " 0.154741196308652,\n",
       " 0.1548143396284699,\n",
       " 0.15489024329534964,\n",
       " 0.15489997003364506,\n",
       " 0.15492884764933015,\n",
       " 0.1551019026629316,\n",
       " 0.15510861688283165,\n",
       " 0.1557148718345985,\n",
       " 0.1557467862551267,\n",
       " 0.15614110225591313,\n",
       " 0.15621142447142344,\n",
       " 0.15666510218327942,\n",
       " 0.15684245848415682,\n",
       " 0.1575716728797756,\n",
       " 0.1578331624338199,\n",
       " 0.15787858061658847,\n",
       " 0.15856985000413606,\n",
       " 0.1587956266480004,\n",
       " 0.15882421570316577,\n",
       " 0.15911134923531453,\n",
       " 0.15938123080000427,\n",
       " 0.1593865576941445,\n",
       " 0.15955018923798817,\n",
       " 0.1596305970007676,\n",
       " 0.15986994565770996,\n",
       " 0.16000495962836728,\n",
       " 0.1606504106052992,\n",
       " 0.16107016503986357,\n",
       " 0.16121845873135168,\n",
       " 0.16128028621050483,\n",
       " 0.16128901501491844,\n",
       " 0.16136747132101897,\n",
       " ...]"
      ]
     },
     "execution_count": 54,
     "metadata": {},
     "output_type": "execute_result"
    }
   ],
   "source": [
    "sorted(probs)"
   ]
  },
  {
   "cell_type": "code",
   "execution_count": 55,
   "metadata": {},
   "outputs": [
    {
     "data": {
      "text/html": [
       "<div>\n",
       "<style scoped>\n",
       "    .dataframe tbody tr th:only-of-type {\n",
       "        vertical-align: middle;\n",
       "    }\n",
       "\n",
       "    .dataframe tbody tr th {\n",
       "        vertical-align: top;\n",
       "    }\n",
       "\n",
       "    .dataframe thead th {\n",
       "        text-align: right;\n",
       "    }\n",
       "</style>\n",
       "<table border=\"1\" class=\"dataframe\">\n",
       "  <thead>\n",
       "    <tr style=\"text-align: right;\">\n",
       "      <th></th>\n",
       "      <th>fpr</th>\n",
       "      <th>tpr</th>\n",
       "      <th>thr</th>\n",
       "    </tr>\n",
       "  </thead>\n",
       "  <tbody>\n",
       "    <tr>\n",
       "      <th>0</th>\n",
       "      <td>0.000000</td>\n",
       "      <td>0.000000</td>\n",
       "      <td>1.931711</td>\n",
       "    </tr>\n",
       "    <tr>\n",
       "      <th>1</th>\n",
       "      <td>0.000000</td>\n",
       "      <td>0.002457</td>\n",
       "      <td>0.931711</td>\n",
       "    </tr>\n",
       "    <tr>\n",
       "      <th>2</th>\n",
       "      <td>0.000000</td>\n",
       "      <td>0.014742</td>\n",
       "      <td>0.839885</td>\n",
       "    </tr>\n",
       "    <tr>\n",
       "      <th>3</th>\n",
       "      <td>0.001255</td>\n",
       "      <td>0.014742</td>\n",
       "      <td>0.827222</td>\n",
       "    </tr>\n",
       "    <tr>\n",
       "      <th>4</th>\n",
       "      <td>0.001255</td>\n",
       "      <td>0.017199</td>\n",
       "      <td>0.809916</td>\n",
       "    </tr>\n",
       "  </tbody>\n",
       "</table>\n",
       "</div>"
      ],
      "text/plain": [
       "        fpr       tpr       thr\n",
       "0  0.000000  0.000000  1.931711\n",
       "1  0.000000  0.002457  0.931711\n",
       "2  0.000000  0.014742  0.839885\n",
       "3  0.001255  0.014742  0.827222\n",
       "4  0.001255  0.017199  0.809916"
      ]
     },
     "execution_count": 55,
     "metadata": {},
     "output_type": "execute_result"
    }
   ],
   "source": [
    "pd.DataFrame({\n",
    "    'fpr':fpr,\n",
    "    'tpr':tpr,\n",
    "    'thr':thr\n",
    "}).head()"
   ]
  },
  {
   "cell_type": "code",
   "execution_count": 56,
   "metadata": {},
   "outputs": [],
   "source": [
    "from sklearn.metrics import roc_auc_score, average_precision_score"
   ]
  },
  {
   "cell_type": "code",
   "execution_count": 57,
   "metadata": {},
   "outputs": [
    {
     "data": {
      "text/plain": [
       "0.7659739863129692"
      ]
     },
     "execution_count": 57,
     "metadata": {},
     "output_type": "execute_result"
    }
   ],
   "source": [
    "roc_auc_score(y_test, probs)"
   ]
  },
  {
   "cell_type": "code",
   "execution_count": 58,
   "metadata": {},
   "outputs": [
    {
     "data": {
      "text/plain": [
       "0.475147561400464"
      ]
     },
     "execution_count": 58,
     "metadata": {},
     "output_type": "execute_result"
    }
   ],
   "source": [
    "average_precision_score(y_test, probs)"
   ]
  },
  {
   "cell_type": "markdown",
   "metadata": {},
   "source": [
    "# Plotting ROC & Precision-Recall Curves from scratch"
   ]
  },
  {
   "cell_type": "code",
   "execution_count": 59,
   "metadata": {},
   "outputs": [],
   "source": [
    "def plot_roc_curve_from_scratch(y_true, thresholds):\n",
    "    xax, yax = [], []\n",
    "    for thr in thresholds:\n",
    "        preds = Binarizer(threshold=thr).fit_transform([probs]).ravel()\n",
    "        tn, fp, fn, tp = confusion_matrix(y_test, preds).ravel()\n",
    "        \n",
    "        fpr1 = fp/(fp+tn)\n",
    "        tpr1 = tp/(tp+fn)\n",
    "        \n",
    "        xax.append(fpr1)\n",
    "        yax.append(tpr1)\n",
    "    return xax, yax"
   ]
  },
  {
   "cell_type": "code",
   "execution_count": 60,
   "metadata": {},
   "outputs": [],
   "source": [
    "xax, yax = plot_roc_curve_from_scratch(y_test, np.linspace(0,1,30))"
   ]
  },
  {
   "cell_type": "code",
   "execution_count": 61,
   "metadata": {},
   "outputs": [
    {
     "data": {
      "text/plain": [
       "<matplotlib.collections.PathCollection at 0x7f88b70713a0>"
      ]
     },
     "execution_count": 61,
     "metadata": {},
     "output_type": "execute_result"
    },
    {
     "data": {
      "image/png": "[encoded data removed]",
      "text/plain": [
       "<Figure size 432x288 with 1 Axes>"
      ]
     },
     "metadata": {
      "needs_background": "light"
     },
     "output_type": "display_data"
    }
   ],
   "source": [
    "plt.scatter(xax, yax)"
   ]
  },
  {
   "cell_type": "code",
   "execution_count": 62,
   "metadata": {},
   "outputs": [],
   "source": [
    "def plot_pr_curve_curve_from_scratch(y_true, thresholds):\n",
    "    xax_pr, yax_pr = [], []\n",
    "    for thr in thresholds:\n",
    "        preds = Binarizer(threshold=thr).fit_transform([probs]).ravel()\n",
    "        tn, fp, fn, tp = confusion_matrix(y_test, preds).ravel()\n",
    "        \n",
    "        precision = tp/(fp+tp)\n",
    "        recall = tp/(tp+fn)\n",
    "        \n",
    "        xax_pr.append(recall)\n",
    "        yax_pr.append(precision)\n",
    "    return xax_pr, yax_pr"
   ]
  },
  {
   "cell_type": "code",
   "execution_count": 63,
   "metadata": {},
   "outputs": [],
   "source": [
    "xax_pr, yax_pr = plot_pr_curve_curve_from_scratch(y_test, [0.1,0.2,0.3,0.4,0.5,0.6])"
   ]
  },
  {
   "cell_type": "code",
   "execution_count": 64,
   "metadata": {},
   "outputs": [
    {
     "data": {
      "text/plain": [
       "<matplotlib.collections.PathCollection at 0x7f88b7135a60>"
      ]
     },
     "execution_count": 64,
     "metadata": {},
     "output_type": "execute_result"
    },
    {
     "data": {
      "image/png": "[encoded data removed]",
      "text/plain": [
       "<Figure size 432x288 with 1 Axes>"
      ]
     },
     "metadata": {
      "needs_background": "light"
     },
     "output_type": "display_data"
    }
   ],
   "source": [
    "plt.scatter(xax_pr, yax_pr)"
   ]
  },
  {
   "cell_type": "code",
   "execution_count": null,
   "metadata": {},
   "outputs": [],
   "source": []
  }
 ],
 "metadata": {
  "kernelspec": {
   "display_name": "Python 3",
   "language": "python",
   "name": "python3"
  },
  "language_info": {
   "codemirror_mode": {
    "name": "ipython",
    "version": 3
   },
   "file_extension": ".py",
   "mimetype": "text/x-python",
   "name": "python",
   "nbconvert_exporter": "python",
   "pygments_lexer": "ipython3",
   "version": "3.8.5"
  }
 },
 "nbformat": 4,
 "nbformat_minor": 4
}
