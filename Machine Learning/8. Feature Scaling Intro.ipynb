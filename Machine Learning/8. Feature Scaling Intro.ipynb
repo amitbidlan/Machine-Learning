{
 "cells": [
  {
   "cell_type": "markdown",
   "metadata": {},
   "source": [
    "# What is  feature scaling?\n",
    "\n"
   ]
  },
  {
   "cell_type": "markdown",
   "metadata": {},
   "source": [
    "Feature Scaling is the method used to normalize the range of independent variables or features of data.\n",
    "\n",
    "In data Processing, It is also Known as data normalisation and is generally performed during data pre-processing step."
   ]
  },
  {
   "cell_type": "markdown",
   "metadata": {},
   "source": [
    "Since the range of values of raw data varies widely, in some machine learning algorithms, objective functions will not work properly without normalization. For example, many classifiers calculate the distance between two points by the Euclidean distance. If one of the features has a broad range of values, the distance will be governed by this particular feature. Therefore, the range of all features should be normalized so that each feature contributes approximately proportionately to the final distance."
   ]
  },
  {
   "cell_type": "markdown",
   "metadata": {},
   "source": [
    "Another reason why feature scaling is applied is that gradient descent converges much faster with feature scaling than without it.\n",
    "\n",
    "It's also important to apply feature scaling if regularization is used as part of the loss function (so that coefficients are penalized appropriately)."
   ]
  },
  {
   "cell_type": "markdown",
   "metadata": {},
   "source": [
    "# So Question Arises which algo need feature scaling\n",
    "\n",
    "1. Linear based models, ones which calculate distances as a part of their algo need data to be scaled.\n",
    "\n",
    "2. For eg: Linear & Logic Regression, SVMs, PCA, LDA, KNN, K-Means Clustering"
   ]
  },
  {
   "cell_type": "markdown",
   "metadata": {},
   "source": [
    "# Which Algo do Not need feature scaling"
   ]
  },
  {
   "cell_type": "markdown",
   "metadata": {},
   "source": [
    "1. Tree based models, which essentially ask, 'inequality' based questions to make splits at each node, do not need to be scaled.\n",
    "\n",
    "2. For eg: Descision Trees, Random Forests, Gradient Boosting Trees etc"
   ]
  },
  {
   "cell_type": "markdown",
   "metadata": {},
   "source": [
    "# Different Feature Scaling Techniques"
   ]
  },
  {
   "cell_type": "markdown",
   "metadata": {},
   "source": [
    "1. Standard Scaler\n",
    "2. MinMax Scaler\n",
    "3. Robust Scaler\n",
    "4. MaxAbs Scaler\n",
    "5. Power Transformer\n",
    "6. QuantileTransformer\n",
    "7. Normalizer"
   ]
  },
  {
   "cell_type": "code",
   "execution_count": null,
   "metadata": {},
   "outputs": [],
   "source": []
  }
 ],
 "metadata": {
  "kernelspec": {
   "display_name": "Python 3",
   "language": "python",
   "name": "python3"
  },
  "language_info": {
   "codemirror_mode": {
    "name": "ipython",
    "version": 3
   },
   "file_extension": ".py",
   "mimetype": "text/x-python",
   "name": "python",
   "nbconvert_exporter": "python",
   "pygments_lexer": "ipython3",
   "version": "3.8.5"
  }
 },
 "nbformat": 4,
 "nbformat_minor": 4
}
