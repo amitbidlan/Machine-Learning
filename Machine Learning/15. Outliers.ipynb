{
 "cells": [
  {
   "cell_type": "markdown",
   "metadata": {},
   "source": [
    "# What are Outliers?"
   ]
  },
  {
   "cell_type": "markdown",
   "metadata": {},
   "source": [
    "- Outliers are the data points which differ significantly from the other data point \n",
    "- they are those head scratching data points which can give you sleepless nights defining what is and what is not an outlet varies according to the business problem at hand\n",
    "- Outliers are supposed to be 'rare' in nature\n",
    "\n",
    "\n",
    "# When are outliers bad?\n",
    "\n",
    "- for example we do an online survey about usage habits of people on enter one particular social media platform which started 7 years back \n",
    "- one question was for how many years they have been using the platform when we check the results\n",
    "- we find that one for responded 17 we know that it's not quite possible write this is an outlier \n",
    "- also unfortunately we have no idea about its real value and it makes sense to drop the data point or possible hun down that person not the correct value"
   ]
  },
  {
   "cell_type": "markdown",
   "metadata": {},
   "source": [
    "- But it doesn't really make sense to draw every single outlet from the data \n",
    "- for example if we have a fraud detection Scenarios, most likely the fraud cases are going to be labelled as outlined but these aren't outliers right?\n",
    "- thus we should Ideally first check out their measurement errors for valid ones.\n",
    "- inspection of the outlast could also lead to some other interesting discovery about the data like we could come to a conclusion that our data collection method was flawed or maybe we'll need to include some extra features to handle the rare cases\n",
    "- like in this case we could add extra features that asks the respondent whether they were jobless for a period of time or there are startup founders etc."
   ]
  },
  {
   "cell_type": "markdown",
   "metadata": {},
   "source": [
    "# when to drop the outliers"
   ]
  },
  {
   "cell_type": "markdown",
   "metadata": {},
   "source": [
    "- When we are absolutely sure the data is a measurement error.\n",
    "- When the number of good cases were of the number of outliers.\n",
    "- Like if we have a million data samples and only a few thousand of potential outliers then it might not be to not be the worst decision to drop them all together otherwise it is time to handle those Messy outliers"
   ]
  },
  {
   "cell_type": "markdown",
   "metadata": {},
   "source": [
    "# Effect of outliers"
   ]
  },
  {
   "cell_type": "markdown",
   "metadata": {},
   "source": [
    "- Outliers only tend to model which rely on assigning weights to parameters for example linear models or adaboost at etc.\n",
    "\n",
    "- Outliers do not normally affect tree base models , which rely on dividing the feature space into subsections"
   ]
  },
  {
   "cell_type": "code",
   "execution_count": null,
   "metadata": {},
   "outputs": [],
   "source": []
  }
 ],
 "metadata": {
  "kernelspec": {
   "display_name": "Python 3",
   "language": "python",
   "name": "python3"
  },
  "language_info": {
   "codemirror_mode": {
    "name": "ipython",
    "version": 3
   },
   "file_extension": ".py",
   "mimetype": "text/x-python",
   "name": "python",
   "nbconvert_exporter": "python",
   "pygments_lexer": "ipython3",
   "version": "3.8.5"
  }
 },
 "nbformat": 4,
 "nbformat_minor": 4
}
